{
 "cells": [
  {
   "cell_type": "code",
   "execution_count": 75,
   "id": "565cdb91-c73c-4a94-9efc-d34b6a8a2a78",
   "metadata": {},
   "outputs": [
    {
     "name": "stdout",
     "output_type": "stream",
     "text": [
      "DataFrame Shape: (16, 5)\n",
      "         Date    Location  Temperature  Humidity     Conditions\n",
      "0  2025-04-01  Copenhagen          8.3      72.0  Partly Cloudy\n",
      "1  2025-04-01      Aarhus          7.1      76.0       Overcast\n",
      "2  2025-04-01      Odense          6.5      78.0           Rain\n",
      "3  2025-04-02  Copenhagen          9.0      68.0          Sunny\n",
      "4  2025-04-02      Aarhus          8.2      70.0  Partly Cloudy\n",
      "5  2025-04-02      Odense          7.4      73.0         Cloudy\n",
      "6  2025-04-03  Copenhagen          7.8      75.0           Rain\n",
      "7  2025-04-03      Aarhus          6.9      77.0           Rain\n",
      "8  2025-04-03      Odense          6.2      79.0       Overcast\n",
      "9  2025-04-04  Copenhagen          6.5      80.0  Thunderstorms\n",
      "10 2025-04-04      Aarhus          5.8      82.0  Thunderstorms\n",
      "11 2025-04-05      Odense          5.3      85.0           Rain\n",
      "12 2025-04-05  Copenhagen          8.3      72.0  Partly Cloudy\n",
      "13 2025-04-05      Aarhus          7.1      76.0       Overcast\n",
      "14 2025-04-05      Odense          6.5      78.0           Rain\n",
      "15 2025-04-06  COPENHAGEN          8.3      72.0  Partly Cloudy\n"
     ]
    }
   ],
   "source": [
    "import pandas as pd\n",
    "\n",
    "# --- Extract ---\n",
    "file_path = \"../Data/Weather_data.txt\"  # Make sure this is correct relative path\n",
    "\n",
    "# Read the file\n",
    "df_raw = pd.read_csv(file_path, sep=\"\\t\", encoding='utf-8')\n",
    "\n",
    "# Check the shape of the DataFrame (rows, columns) and display it fully\n",
    "print(\"DataFrame Shape:\", df_raw.shape)\n",
    "#print(df_raw)\n",
    "\n",
    "# Display all rows and columns if the data is large\n",
    "#pd.set_option('display.max_rows', None)  # Show all rows\n",
    "#pd.set_option('display.max_columns', None)  # Show all columns\n",
    "#print(df_raw)  # Print all the rows and columns of the DataFrame\n",
    "\n",
    "# --- Transform ---\n",
    "# Convert 'Date' column to datetime\n",
    "df_raw['Date'] = pd.to_datetime(df_raw['Date'], errors='coerce')\n",
    "\n",
    "# Ensure Temperature and Humidity are floats\n",
    "df_raw['Temperature'] = df_raw['Temperature'].astype(float)\n",
    "df_raw['Humidity'] = df_raw['Humidity'].astype(float)\n",
    "\n",
    "# Clean column names (optional, e.g., lowercase)\n",
    "#df_raw.columns = [col.lower() for col in df_raw.columns]\n",
    "\n",
    "# --- Load ---\n",
    "# Now df_raw is your cleaned and loaded DataFrame\n",
    "print(df_raw)  # Print the first few rows to confirm changes\n",
    "\n"
   ]
  },
  {
   "cell_type": "code",
   "execution_count": null,
   "id": "0042bc56-fc40-4642-9b61-74a98ccd5c2a",
   "metadata": {},
   "outputs": [],
   "source": []
  },
  {
   "cell_type": "code",
   "execution_count": null,
   "id": "f9a91d12-3086-46d2-93d3-a253c7f00ee1",
   "metadata": {},
   "outputs": [],
   "source": []
  }
 ],
 "metadata": {
  "kernelspec": {
   "display_name": "base",
   "language": "python",
   "name": "python3"
  },
  "language_info": {
   "codemirror_mode": {
    "name": "ipython",
    "version": 3
   },
   "file_extension": ".py",
   "mimetype": "text/x-python",
   "name": "python",
   "nbconvert_exporter": "python",
   "pygments_lexer": "ipython3",
   "version": "3.12.7"
  }
 },
 "nbformat": 4,
 "nbformat_minor": 5
}
