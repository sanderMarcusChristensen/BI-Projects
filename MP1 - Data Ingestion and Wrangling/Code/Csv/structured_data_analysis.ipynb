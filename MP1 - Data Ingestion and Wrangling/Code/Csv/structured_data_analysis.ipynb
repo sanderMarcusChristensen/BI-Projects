{
 "cells": [
  {
   "cell_type": "code",
   "execution_count": null,
   "id": "b4d0872c",
   "metadata": {},
   "outputs": [],
   "source": [
    "import pandas as pd\n",
    "\n",
    "df = pd.read_csv(\"../Data/unstructured_data.csv\")\n",
    "\n",
    "#Look at the data\n",
    "print(df.head())\n",
    "\n",
    "#Print total number of feedbacks\n",
    "print(\"Total feedbacks:\", len(df))\n",
    "\n",
    "#Look if data has missing values\n",
    "print(\"Total null values:\", df.isnull().sum())"
   ]
  },
  {
   "cell_type": "code",
   "execution_count": null,
   "id": "eca3b993",
   "metadata": {},
   "outputs": [],
   "source": [
    "#Dive in to the data\n",
    "#Who mentioned something about 'delivery'\n",
    "delivery_related = df[df['CustomerFeedback'].str.contains(\"delivery\", case=False)]\n",
    "print(delivery_related)"
   ]
  },
  {
   "cell_type": "code",
   "execution_count": null,
   "id": "13ed8c0e",
   "metadata": {},
   "outputs": [],
   "source": [
    "#Who mentioned something about damage\n",
    "damage_related = df[df['CustomerFeedback'].str.contains(\"damage\", case=False)]\n",
    "print(damage_related)"
   ]
  },
  {
   "cell_type": "code",
   "execution_count": null,
   "id": "bf47639d",
   "metadata": {},
   "outputs": [],
   "source": [
    "#Find out how long the comments are\n",
    "df['CommentLength'] = df['CustomerFeedback'].str.len()\n",
    "print(df[['CustomerFeedback', 'CommentLength']])"
   ]
  },
  {
   "cell_type": "code",
   "execution_count": null,
   "id": "8fdd937c",
   "metadata": {},
   "outputs": [],
   "source": [
    "def tag_sentiment(text):\n",
    "    if any(word in text.lower() for word in ['love','great','amazing','rock','helpful']):\n",
    "        return 'Positive'\n",
    "    elif any(word in text.lower() for word in ['ugly', 'damaged', 'annoyed', 'crash', 'return', 'soaked']):\n",
    "        return 'Negative'\n",
    "    else:\n",
    "        return 'Neutral'\n",
    "    \n",
    "df['Sentiment'] = df['CustomerFeedback'].apply(tag_sentiment)\n",
    "print(df[['CustomerFeedback', 'Sentiment']])"
   ]
  },
  {
   "cell_type": "code",
   "execution_count": null,
   "id": "ca579914",
   "metadata": {},
   "outputs": [],
   "source": [
    "import matplotlib.pyplot as plt\n",
    "\n",
    "#Count amounts of feedback in Positive, Negative and Neutral\n",
    "sentiment_counts = df['Sentiment'].value_counts()\n",
    "\n",
    "#Plot a bar-chart\n",
    "sentiment_counts.plot(kind='bar', title='Customer Feedback Sentiment')\n",
    "plt.xlabel('Sentiment')\n",
    "plt.ylabel('Number of Feedbacks')\n",
    "plt.grid(axis='y', linestyle='--', alpha=0.7)\n",
    "plt.tight_layout()\n",
    "plt.show()"
   ]
  }
 ],
 "metadata": {
  "kernelspec": {
   "display_name": "base",
   "language": "python",
   "name": "python3"
  },
  "language_info": {
   "codemirror_mode": {
    "name": "ipython",
    "version": 3
   },
   "file_extension": ".py",
   "mimetype": "text/x-python",
   "name": "python",
   "nbconvert_exporter": "python",
   "pygments_lexer": "ipython3",
   "version": "3.12.7"
  }
 },
 "nbformat": 4,
 "nbformat_minor": 5
}
