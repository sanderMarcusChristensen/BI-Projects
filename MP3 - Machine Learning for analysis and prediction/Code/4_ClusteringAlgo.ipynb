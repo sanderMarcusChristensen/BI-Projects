{
 "cells": [
  {
   "cell_type": "markdown",
   "id": "d01351ec",
   "metadata": {},
   "source": [
    "## Unsupervised machine learning: clustering\n",
    "In alle the other small task we tryed to make a model that could predict somthing by \"not looking\" at the answer. Even tho we had the asnwer in the dataset, we tryed to make the model predict it. \n",
    "This task is called \"clustering\", that mens we dont have the answer, we dont have our \"cheatsheet\" we can look at\n",
    "\n",
    "what we are going to do this task : \n",
    "- Apply a clustering algorithm for segmentation of the employees in groups of similarity\n",
    "\n",
    "- Evaluate the quality of the results by calculating a silhouette score and recommend a cluster\n",
    "configuration with the highest score\n",
    "\n",
    "As normal we load and clean the data from the task"
   ]
  },
  {
   "cell_type": "code",
   "execution_count": 1,
   "id": "95293ba9",
   "metadata": {},
   "outputs": [],
   "source": [
    "# Note: this import can change from class to class in MP3 \n",
    "\n",
    "# Standard imports\n",
    "import numpy as np\n",
    "import pandas as pd\n",
    "import matplotlib.pyplot as plt\n",
    "import seaborn as sns\n",
    "\n",
    "# Sklearn tools\n",
    "from sklearn.model_selection import train_test_split\n",
    "from sklearn.linear_model import LinearRegression\n",
    "from sklearn.preprocessing import StandardScaler\n",
    "from sklearn.decomposition import PCA\n",
    "from sklearn.metrics import mean_squared_error, r2_score\n",
    "\n",
    "# Style til grafer\n",
    "sns.set(style=\"whitegrid\")"
   ]
  },
  {
   "cell_type": "code",
   "execution_count": 2,
   "id": "0e28e3e8",
   "metadata": {},
   "outputs": [
    {
     "data": {
      "text/plain": [
       "Index(['Age', 'Attrition', 'BusinessTravel', 'DailyRate', 'Department',\n",
       "       'DistanceFromHome', 'Education', 'EducationField', 'EmployeeCount',\n",
       "       'EmployeeNumber', 'EnvironmentSatisfaction', 'Gender', 'HourlyRate',\n",
       "       'JobInvolvement', 'JobLevel', 'JobRole', 'JobSatisfaction',\n",
       "       'MaritalStatus', 'MonthlyIncome', 'MonthlyRate', 'NumCompaniesWorked',\n",
       "       'Over18', 'OverTime', 'PercentSalaryHike', 'PerformanceRating',\n",
       "       'RelationshipSatisfaction', 'StandardHours', 'StockOptionLevel',\n",
       "       'TotalWorkingYears', 'TrainingTimesLastYear', 'WorkLifeBalance',\n",
       "       'YearsAtCompany', 'YearsInCurrentRole', 'YearsSinceLastPromotion',\n",
       "       'YearsWithCurrManager'],\n",
       "      dtype='object')"
      ]
     },
     "execution_count": 2,
     "metadata": {},
     "output_type": "execute_result"
    }
   ],
   "source": [
    "# Load data \n",
    "emp_data = pd.read_csv('../Data/WA_Fn-UseC_-HR-Employee-Attrition.csv')\n",
    "\n",
    "# Clean dataset\n",
    "emp_data.isnull().sum()\n",
    "emp_data.duplicated().sum()\n",
    "emp_data.shape\n",
    "emp_data.sample(10)\n",
    "emp_data.head()\n",
    "emp_data.columns"
   ]
  },
  {
   "cell_type": "code",
   "execution_count": 4,
   "id": "d992b03e",
   "metadata": {},
   "outputs": [],
   "source": [
    "cluster_features = [\n",
    "    'Age',\n",
    "    'MonthlyIncome',\n",
    "    'TotalWorkingYears',\n",
    "    'JobLevel',\n",
    "    'YearsAtCompany',\n",
    "    'YearsSinceLastPromotion',\n",
    "    'EnvironmentSatisfaction',\n",
    "    'JobInvolvement',\n",
    "    'PerformanceRating',\n",
    "    'WorkLifeBalance'\n",
    "]\n",
    "\n",
    "# Note we dont have a target like in 2_income"
   ]
  }
 ],
 "metadata": {
  "kernelspec": {
   "display_name": "Python 3",
   "language": "python",
   "name": "python3"
  },
  "language_info": {
   "codemirror_mode": {
    "name": "ipython",
    "version": 3
   },
   "file_extension": ".py",
   "mimetype": "text/x-python",
   "name": "python",
   "nbconvert_exporter": "python",
   "pygments_lexer": "ipython3",
   "version": "3.12.10"
  }
 },
 "nbformat": 4,
 "nbformat_minor": 5
}
