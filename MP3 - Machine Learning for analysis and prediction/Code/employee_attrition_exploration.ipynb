{
 "cells": [
  {
   "cell_type": "code",
   "execution_count": null,
   "id": "50560505",
   "metadata": {},
   "outputs": [],
   "source": [
    "import numpy as np\n",
    "import pandas as pd\n",
    "import matplotlib.pyplot as plt\n",
    "import seaborn as sns\n",
    "\n",
    "# sklearn tools\n",
    "from sklearn.preprocessing import StandardScaler\n",
    "from sklearn.decomposition import PCA\n",
    "\n",
    "# Set seaborn style for clean visuals\n",
    "sns.set(style=\"whitegrid\")"
   ]
  },
  {
   "cell_type": "markdown",
   "id": "cd721567",
   "metadata": {},
   "source": [
    "## Step 1: Load employee data\n",
    "Load employee data from the provided source file:\n",
    " - WA_Fn-UseC_-HR-Employee-Attrition.csv"
   ]
  },
  {
   "cell_type": "code",
   "execution_count": null,
   "id": "c74b582a",
   "metadata": {},
   "outputs": [],
   "source": [
    "emp_data = pd.read_csv('../Data/WA_Fn-UseC_-HR-Employee-Attrition.csv')"
   ]
  },
  {
   "cell_type": "markdown",
   "id": "e1041b04",
   "metadata": {},
   "source": [
    "## Step 2: Clean red wine data\n",
    "We check for:\n",
    "\n",
    "- Missing values\n",
    "\n",
    "- Duplicates\n",
    "    - Then we drop the duplicate rows (if there is any)"
   ]
  },
  {
   "cell_type": "code",
   "execution_count": null,
   "id": "57fa532a",
   "metadata": {},
   "outputs": [],
   "source": [
    "emp_data.isnull().sum()"
   ]
  },
  {
   "cell_type": "code",
   "execution_count": null,
   "id": "29d4c687",
   "metadata": {},
   "outputs": [],
   "source": [
    "emp_data.duplicated().sum()"
   ]
  },
  {
   "cell_type": "code",
   "execution_count": null,
   "id": "d7d22802",
   "metadata": {},
   "outputs": [],
   "source": [
    "emp_data.shape"
   ]
  },
  {
   "cell_type": "markdown",
   "id": "2c7e0258",
   "metadata": {},
   "source": [
    "## Step 3: Explore employee data\n",
    "Let's see how much data we have, and preview some rows."
   ]
  },
  {
   "cell_type": "code",
   "execution_count": null,
   "id": "c3ede899",
   "metadata": {},
   "outputs": [],
   "source": [
    "emp_data.shape"
   ]
  },
  {
   "cell_type": "code",
   "execution_count": null,
   "id": "a2641d63",
   "metadata": {},
   "outputs": [],
   "source": [
    "emp_data.sample(10)"
   ]
  },
  {
   "cell_type": "code",
   "execution_count": null,
   "id": "13ee8a45",
   "metadata": {},
   "outputs": [],
   "source": [
    "emp_data.head()"
   ]
  },
  {
   "cell_type": "code",
   "execution_count": 30,
   "id": "0b920a11",
   "metadata": {},
   "outputs": [
    {
     "data": {
      "text/plain": [
       "Index(['Age', 'Attrition', 'BusinessTravel', 'DailyRate', 'Department',\n",
       "       'DistanceFromHome', 'Education', 'EducationField', 'EmployeeCount',\n",
       "       'EmployeeNumber', 'EnvironmentSatisfaction', 'Gender', 'HourlyRate',\n",
       "       'JobInvolvement', 'JobLevel', 'JobRole', 'JobSatisfaction',\n",
       "       'MaritalStatus', 'MonthlyIncome', 'MonthlyRate', 'NumCompaniesWorked',\n",
       "       'Over18', 'OverTime', 'PercentSalaryHike', 'PerformanceRating',\n",
       "       'RelationshipSatisfaction', 'StandardHours', 'StockOptionLevel',\n",
       "       'TotalWorkingYears', 'TrainingTimesLastYear', 'WorkLifeBalance',\n",
       "       'YearsAtCompany', 'YearsInCurrentRole', 'YearsSinceLastPromotion',\n",
       "       'YearsWithCurrManager'],\n",
       "      dtype='object')"
      ]
     },
     "execution_count": 30,
     "metadata": {},
     "output_type": "execute_result"
    }
   ],
   "source": [
    "emp_data.columns"
   ]
  },
  {
   "cell_type": "markdown",
   "id": "5b895b0f",
   "metadata": {},
   "source": [
    "## Select and prepare the features of an employee that are most relevant for solving the following tasks\n",
    "We have selected the following features:"
   ]
  },
  {
   "cell_type": "markdown",
   "id": "0fa268f4",
   "metadata": {},
   "source": [
    "JobSatisfaction, WorkLifeBalance, YearsSinceLastPromotion, EnvironmentSatisfaction and MonthlyIncome"
   ]
  }
 ],
 "metadata": {
  "kernelspec": {
   "display_name": ".venv",
   "language": "python",
   "name": "python3"
  },
  "language_info": {
   "codemirror_mode": {
    "name": "ipython",
    "version": 3
   },
   "file_extension": ".py",
   "mimetype": "text/x-python",
   "name": "python",
   "nbconvert_exporter": "python",
   "pygments_lexer": "ipython3",
   "version": "3.13.3"
  }
 },
 "nbformat": 4,
 "nbformat_minor": 5
}
