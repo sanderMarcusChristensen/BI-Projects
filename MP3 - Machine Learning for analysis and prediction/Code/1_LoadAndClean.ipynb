{
 "cells": [
  {
   "cell_type": "markdown",
   "id": "2ddad11b",
   "metadata": {},
   "source": [
    "# Data Wrangling and Exploration\n",
    "\n",
    "In this mini project (MP3), we are working with both supervised and unsupervised machine learning.\n",
    "\n",
    "Since we need to build different models using the same dataset, we decided to split them into separate sections.\n",
    "\n",
    "The first step in building our machine learning models is to load and clean the data. As we have already done this several times in MP1 and MP2, we will skip detailed explanations here and instead provide a single, clean code block that can be reused across all tasks in this project.\n",
    "\n",
    "If you need a refresher on how to load and clean data, please refer to the relevant sections in MP1 and MP2."
   ]
  },
  {
   "cell_type": "markdown",
   "id": "cfefaabb",
   "metadata": {},
   "source": [
    "## Objective\n",
    "The objective of this mini project is to provide practice in data analysis and prediction by regression,\n",
    "classification and clustering algorithms.\n",
    "\n",
    "\n",
    "## Problem Statement\n",
    "Attrition is the rate at which employees leave their job. When attrition reaches high levels, it becomes\n",
    "a concern for the company. Therefore, it is important to find out why employees leave, which factors\n",
    "contribute to such significant decision."
   ]
  },
  {
   "cell_type": "code",
   "execution_count": null,
   "id": "7e4ba059",
   "metadata": {},
   "outputs": [],
   "source": [
    "# Note: this import can change from class to class in MP3 \n",
    "\n",
    "# Standard imports\n",
    "import numpy as np\n",
    "import pandas as pd\n",
    "import matplotlib.pyplot as plt\n",
    "import seaborn as sns\n",
    "\n",
    "# Sklearn tools\n",
    "from sklearn.model_selection import train_test_split\n",
    "from sklearn.linear_model import LinearRegression\n",
    "from sklearn.preprocessing import StandardScaler\n",
    "from sklearn.decomposition import PCA\n",
    "from sklearn.metrics import mean_squared_error, r2_score\n",
    "\n",
    "# Style til grafer\n",
    "sns.set(style=\"whitegrid\")"
   ]
  },
  {
   "cell_type": "code",
   "execution_count": null,
   "id": "de73227f",
   "metadata": {},
   "outputs": [
    {
     "data": {
      "text/plain": [
       "Index(['Age', 'Attrition', 'BusinessTravel', 'DailyRate', 'Department',\n",
       "       'DistanceFromHome', 'Education', 'EducationField', 'EmployeeCount',\n",
       "       'EmployeeNumber', 'EnvironmentSatisfaction', 'Gender', 'HourlyRate',\n",
       "       'JobInvolvement', 'JobLevel', 'JobRole', 'JobSatisfaction',\n",
       "       'MaritalStatus', 'MonthlyIncome', 'MonthlyRate', 'NumCompaniesWorked',\n",
       "       'Over18', 'OverTime', 'PercentSalaryHike', 'PerformanceRating',\n",
       "       'RelationshipSatisfaction', 'StandardHours', 'StockOptionLevel',\n",
       "       'TotalWorkingYears', 'TrainingTimesLastYear', 'WorkLifeBalance',\n",
       "       'YearsAtCompany', 'YearsInCurrentRole', 'YearsSinceLastPromotion',\n",
       "       'YearsWithCurrManager'],\n",
       "      dtype='object')"
      ]
     },
     "execution_count": 5,
     "metadata": {},
     "output_type": "execute_result"
    }
   ],
   "source": [
    "# Load data \n",
    "emp_data = pd.read_csv('../Data/WA_Fn-UseC_-HR-Employee-Attrition.csv')\n",
    "\n",
    "# Clean dataset\n",
    "emp_data.isnull().sum()\n",
    "emp_data.duplicated().sum()\n",
    "emp_data.shape\n",
    "emp_data.shape\n",
    "emp_data.sample(10)\n",
    "emp_data.head()\n",
    "emp_data.columns"
   ]
  }
 ],
 "metadata": {
  "kernelspec": {
   "display_name": "Python 3",
   "language": "python",
   "name": "python3"
  },
  "language_info": {
   "codemirror_mode": {
    "name": "ipython",
    "version": 3
   },
   "file_extension": ".py",
   "mimetype": "text/x-python",
   "name": "python",
   "nbconvert_exporter": "python",
   "pygments_lexer": "ipython3",
   "version": "3.12.10"
  }
 },
 "nbformat": 4,
 "nbformat_minor": 5
}
