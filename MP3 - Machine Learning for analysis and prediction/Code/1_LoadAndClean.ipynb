{
 "cells": [
  {
   "cell_type": "markdown",
   "id": "2ddad11b",
   "metadata": {},
   "source": [
    "# Data Wrangling and Exploration\n",
    "\n",
    "In this mini project (MP3), we are working with both supervised and unsupervised machine learning.\n",
    "\n",
    "Since we need to build different models using the same dataset, we decided to split them into separate sections.\n",
    "\n",
    "The first step in building our machine learning models is to load and clean the data. As we have already done this several times in MP1 and MP2, we will skip detailed explanations here and instead provide a single, clean code block that can be reused across all tasks in this project.\n",
    "\n",
    "If you need a refresher on how to load and clean data, please refer to the relevant sections in MP1 and MP2."
   ]
  },
  {
   "cell_type": "markdown",
   "id": "cfefaabb",
   "metadata": {},
   "source": [
    "## Objective\n",
    "The objective of this mini project is to provide practice in data analysis and prediction by regression,\n",
    "classification and clustering algorithms.\n",
    "\n",
    "\n",
    "## Problem Statement\n",
    "Attrition is the rate at which employees leave their job. When attrition reaches high levels, it becomes\n",
    "a concern for the company. Therefore, it is important to find out why employees leave, which factors\n",
    "contribute to such significant decision."
   ]
  },
  {
   "cell_type": "code",
   "execution_count": 1,
   "id": "7e4ba059",
   "metadata": {},
   "outputs": [],
   "source": [
    "# Note: this import can change from class to class in MP3 \n",
    "\n",
    "# Standard imports\n",
    "import numpy as np\n",
    "import pandas as pd\n",
    "import matplotlib.pyplot as plt\n",
    "import seaborn as sns\n",
    "\n",
    "# Sklearn tools\n",
    "from sklearn.model_selection import train_test_split\n",
    "from sklearn.linear_model import LinearRegression\n",
    "from sklearn.preprocessing import StandardScaler\n",
    "from sklearn.decomposition import PCA\n",
    "from sklearn.metrics import mean_squared_error, r2_score\n",
    "\n",
    "# Style til grafer\n",
    "sns.set(style=\"whitegrid\")"
   ]
  },
  {
   "cell_type": "code",
   "execution_count": null,
   "id": "de73227f",
   "metadata": {},
   "outputs": [
    {
     "name": "stdout",
     "output_type": "stream",
     "text": [
      "Age                         0\n",
      "Attrition                   0\n",
      "BusinessTravel              0\n",
      "DailyRate                   0\n",
      "Department                  0\n",
      "DistanceFromHome            0\n",
      "Education                   0\n",
      "EducationField              0\n",
      "EmployeeCount               0\n",
      "EmployeeNumber              0\n",
      "EnvironmentSatisfaction     0\n",
      "Gender                      0\n",
      "HourlyRate                  0\n",
      "JobInvolvement              0\n",
      "JobLevel                    0\n",
      "JobRole                     0\n",
      "JobSatisfaction             0\n",
      "MaritalStatus               0\n",
      "MonthlyIncome               0\n",
      "MonthlyRate                 0\n",
      "NumCompaniesWorked          0\n",
      "Over18                      0\n",
      "OverTime                    0\n",
      "PercentSalaryHike           0\n",
      "PerformanceRating           0\n",
      "RelationshipSatisfaction    0\n",
      "StandardHours               0\n",
      "StockOptionLevel            0\n",
      "TotalWorkingYears           0\n",
      "TrainingTimesLastYear       0\n",
      "WorkLifeBalance             0\n",
      "YearsAtCompany              0\n",
      "YearsInCurrentRole          0\n",
      "YearsSinceLastPromotion     0\n",
      "YearsWithCurrManager        0\n",
      "dtype: int64\n",
      "0\n"
     ]
    },
    {
     "data": {
      "text/plain": [
       "Index(['Age', 'Attrition', 'BusinessTravel', 'DailyRate', 'Department',\n",
       "       'DistanceFromHome', 'Education', 'EducationField', 'EmployeeCount',\n",
       "       'EmployeeNumber', 'EnvironmentSatisfaction', 'Gender', 'HourlyRate',\n",
       "       'JobInvolvement', 'JobLevel', 'JobRole', 'JobSatisfaction',\n",
       "       'MaritalStatus', 'MonthlyIncome', 'MonthlyRate', 'NumCompaniesWorked',\n",
       "       'Over18', 'OverTime', 'PercentSalaryHike', 'PerformanceRating',\n",
       "       'RelationshipSatisfaction', 'StandardHours', 'StockOptionLevel',\n",
       "       'TotalWorkingYears', 'TrainingTimesLastYear', 'WorkLifeBalance',\n",
       "       'YearsAtCompany', 'YearsInCurrentRole', 'YearsSinceLastPromotion',\n",
       "       'YearsWithCurrManager'],\n",
       "      dtype='object')"
      ]
     },
     "execution_count": 12,
     "metadata": {},
     "output_type": "execute_result"
    }
   ],
   "source": [
    "# Load data \n",
    "emp_data = pd.read_csv('../Data/WA_Fn-UseC_-HR-Employee-Attrition.csv')\n",
    "\n",
    "# Clean dataset (there are no duplicates or null values, so no action needed for deleting those)\n",
    "print(emp_data.isnull().sum())\n",
    "print(\"Duplicate values: \", emp_data.duplicated().sum())\n",
    "\n",
    "emp_data.columns"
   ]
  }
 ],
 "metadata": {
  "kernelspec": {
   "display_name": "base",
   "language": "python",
   "name": "python3"
  },
  "language_info": {
   "codemirror_mode": {
    "name": "ipython",
    "version": 3
   },
   "file_extension": ".py",
   "mimetype": "text/x-python",
   "name": "python",
   "nbconvert_exporter": "python",
   "pygments_lexer": "ipython3",
   "version": "3.12.7"
  }
 },
 "nbformat": 4,
 "nbformat_minor": 5
}
