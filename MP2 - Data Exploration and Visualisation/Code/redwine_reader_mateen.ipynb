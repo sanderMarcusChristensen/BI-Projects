{
 "cells": [
  {
   "cell_type": "code",
   "execution_count": 115,
   "id": "29b434be-2d94-45ee-873e-30df9f95048f",
   "metadata": {},
   "outputs": [],
   "source": [
    "import numpy as np\n",
    "import pandas as pd\n",
    "import matplotlib.pyplot as plt\n",
    "from sklearn import metrics\n",
    "from scipy.spatial.distance import cdist\n",
    "from sklearn import preprocessing as prep\n",
    "import seaborn as sns"
   ]
  },
  {
   "cell_type": "code",
   "execution_count": null,
   "id": "8033ad81-e55f-4c8b-b756-25c8d7d2d56d",
   "metadata": {},
   "outputs": [],
   "source": [
    "red = pd.read_excel('../Data/winequality-red.xlsx', skiprows=1)\n",
    "white = pd.read_excel('../Data/winequality-white.xlsx', skiprows=1)"
   ]
  },
  {
   "cell_type": "code",
   "execution_count": null,
   "id": "5134b795-021e-49ff-8f0e-e18c5fd2b198",
   "metadata": {},
   "outputs": [],
   "source": [
    "red.shape"
   ]
  },
  {
   "cell_type": "code",
   "execution_count": null,
   "id": "1955c7cd-bde1-46f8-97e0-942fd180046f",
   "metadata": {},
   "outputs": [],
   "source": [
    "red.sample(10)"
   ]
  },
  {
   "cell_type": "code",
   "execution_count": null,
   "id": "f152aaad-2b3d-4ac5-8904-fa1ce5fe5bbb",
   "metadata": {},
   "outputs": [],
   "source": [
    "red.head()"
   ]
  },
  {
   "cell_type": "code",
   "execution_count": null,
   "id": "781ce894-099a-417c-a618-707d3c12a066",
   "metadata": {},
   "outputs": [],
   "source": [
    "#check for missing values\n",
    "red.isnull().sum()"
   ]
  },
  {
   "cell_type": "code",
   "execution_count": null,
   "id": "24e3b043",
   "metadata": {},
   "outputs": [],
   "source": [
    "#check for duplicates\n",
    "red.duplicated().sum()"
   ]
  },
  {
   "cell_type": "code",
   "execution_count": null,
   "id": "216b7011",
   "metadata": {},
   "outputs": [],
   "source": [
    "red.drop_duplicates()"
   ]
  },
  {
   "cell_type": "code",
   "execution_count": null,
   "id": "f60e25cb",
   "metadata": {},
   "outputs": [],
   "source": [
    "red.shape"
   ]
  },
  {
   "cell_type": "code",
   "execution_count": null,
   "id": "7862f7cf",
   "metadata": {},
   "outputs": [],
   "source": [
    "red.columns"
   ]
  },
  {
   "cell_type": "code",
   "execution_count": null,
   "id": "608d1d0a",
   "metadata": {},
   "outputs": [],
   "source": [
    "red.dtypes"
   ]
  },
  {
   "cell_type": "code",
   "execution_count": null,
   "id": "e1bdcc83",
   "metadata": {},
   "outputs": [],
   "source": [
    "white.shape"
   ]
  },
  {
   "cell_type": "code",
   "execution_count": null,
   "id": "3e9d4272",
   "metadata": {},
   "outputs": [],
   "source": [
    "white.sample(10)"
   ]
  },
  {
   "cell_type": "code",
   "execution_count": null,
   "id": "b7485f38",
   "metadata": {},
   "outputs": [],
   "source": [
    "white.head()"
   ]
  },
  {
   "cell_type": "code",
   "execution_count": null,
   "id": "0e1653ea",
   "metadata": {},
   "outputs": [],
   "source": [
    "white.isnull().sum()"
   ]
  },
  {
   "cell_type": "code",
   "execution_count": null,
   "id": "a27c6a25",
   "metadata": {},
   "outputs": [],
   "source": [
    "white.duplicated().sum()"
   ]
  },
  {
   "cell_type": "code",
   "execution_count": null,
   "id": "60859d45",
   "metadata": {},
   "outputs": [],
   "source": [
    "white.drop_duplicates()"
   ]
  },
  {
   "cell_type": "code",
   "execution_count": null,
   "id": "71795f73",
   "metadata": {},
   "outputs": [],
   "source": [
    "white.shape"
   ]
  },
  {
   "cell_type": "code",
   "execution_count": null,
   "id": "9e93d5ec",
   "metadata": {},
   "outputs": [],
   "source": [
    "white.columns"
   ]
  },
  {
   "cell_type": "code",
   "execution_count": null,
   "id": "2529451e",
   "metadata": {},
   "outputs": [],
   "source": [
    "white.dtypes"
   ]
  },
  {
   "cell_type": "code",
   "execution_count": 106,
   "id": "292d0c8d",
   "metadata": {},
   "outputs": [],
   "source": [
    "red[\"type\"] = \"red\"\n",
    "white[\"type\"] = \"white\"\n",
    "\n",
    "wine_df = pd.concat([red, white], ignore_index=True)"
   ]
  },
  {
   "cell_type": "code",
   "execution_count": 107,
   "id": "cebacdb4",
   "metadata": {},
   "outputs": [],
   "source": [
    "wine_df[\"type\"] = wine_df[\"type\"].map({\"red\": 0, \"white\": 1})"
   ]
  },
  {
   "cell_type": "code",
   "execution_count": 108,
   "id": "308b300e",
   "metadata": {},
   "outputs": [
    {
     "data": {
      "text/plain": [
       "np.int64(0)"
      ]
     },
     "execution_count": 108,
     "metadata": {},
     "output_type": "execute_result"
    }
   ],
   "source": [
    "wine_df_clean = wine_df.drop_duplicates()\n",
    "wine_df_clean.duplicated().sum()"
   ]
  },
  {
   "cell_type": "code",
   "execution_count": 109,
   "id": "03dc0253",
   "metadata": {},
   "outputs": [
    {
     "data": {
      "text/plain": [
       "(5320, 13)"
      ]
     },
     "execution_count": 109,
     "metadata": {},
     "output_type": "execute_result"
    }
   ],
   "source": [
    "wine_df_clean.shape"
   ]
  },
  {
   "cell_type": "code",
   "execution_count": 110,
   "id": "4e565813",
   "metadata": {},
   "outputs": [
    {
     "data": {
      "text/html": [
       "<div>\n",
       "<style scoped>\n",
       "    .dataframe tbody tr th:only-of-type {\n",
       "        vertical-align: middle;\n",
       "    }\n",
       "\n",
       "    .dataframe tbody tr th {\n",
       "        vertical-align: top;\n",
       "    }\n",
       "\n",
       "    .dataframe thead th {\n",
       "        text-align: right;\n",
       "    }\n",
       "</style>\n",
       "<table border=\"1\" class=\"dataframe\">\n",
       "  <thead>\n",
       "    <tr style=\"text-align: right;\">\n",
       "      <th></th>\n",
       "      <th>fixed acidity</th>\n",
       "      <th>volatile acidity</th>\n",
       "      <th>citric acid</th>\n",
       "      <th>residual sugar</th>\n",
       "      <th>chlorides</th>\n",
       "      <th>free sulfur dioxide</th>\n",
       "      <th>total sulfur dioxide</th>\n",
       "      <th>density</th>\n",
       "      <th>pH</th>\n",
       "      <th>sulphates</th>\n",
       "      <th>alcohol</th>\n",
       "      <th>quality</th>\n",
       "      <th>type</th>\n",
       "    </tr>\n",
       "  </thead>\n",
       "  <tbody>\n",
       "    <tr>\n",
       "      <th>503</th>\n",
       "      <td>10.5</td>\n",
       "      <td>0.260</td>\n",
       "      <td>0.47</td>\n",
       "      <td>1.90</td>\n",
       "      <td>0.078</td>\n",
       "      <td>6.0</td>\n",
       "      <td>24.0</td>\n",
       "      <td>0.99760</td>\n",
       "      <td>3.18</td>\n",
       "      <td>1.04</td>\n",
       "      <td>10.9</td>\n",
       "      <td>7</td>\n",
       "      <td>0</td>\n",
       "    </tr>\n",
       "    <tr>\n",
       "      <th>6057</th>\n",
       "      <td>6.6</td>\n",
       "      <td>0.350</td>\n",
       "      <td>0.26</td>\n",
       "      <td>2.70</td>\n",
       "      <td>0.045</td>\n",
       "      <td>19.0</td>\n",
       "      <td>129.0</td>\n",
       "      <td>0.98952</td>\n",
       "      <td>3.24</td>\n",
       "      <td>0.48</td>\n",
       "      <td>13.0</td>\n",
       "      <td>7</td>\n",
       "      <td>1</td>\n",
       "    </tr>\n",
       "    <tr>\n",
       "      <th>4381</th>\n",
       "      <td>7.1</td>\n",
       "      <td>0.200</td>\n",
       "      <td>0.31</td>\n",
       "      <td>6.85</td>\n",
       "      <td>0.053</td>\n",
       "      <td>32.0</td>\n",
       "      <td>211.0</td>\n",
       "      <td>0.99587</td>\n",
       "      <td>3.31</td>\n",
       "      <td>0.59</td>\n",
       "      <td>10.4</td>\n",
       "      <td>6</td>\n",
       "      <td>1</td>\n",
       "    </tr>\n",
       "    <tr>\n",
       "      <th>490</th>\n",
       "      <td>9.3</td>\n",
       "      <td>0.775</td>\n",
       "      <td>0.27</td>\n",
       "      <td>2.80</td>\n",
       "      <td>0.078</td>\n",
       "      <td>24.0</td>\n",
       "      <td>56.0</td>\n",
       "      <td>0.99840</td>\n",
       "      <td>3.31</td>\n",
       "      <td>0.67</td>\n",
       "      <td>10.6</td>\n",
       "      <td>6</td>\n",
       "      <td>0</td>\n",
       "    </tr>\n",
       "    <tr>\n",
       "      <th>1115</th>\n",
       "      <td>7.0</td>\n",
       "      <td>0.690</td>\n",
       "      <td>0.07</td>\n",
       "      <td>2.50</td>\n",
       "      <td>0.091</td>\n",
       "      <td>15.0</td>\n",
       "      <td>21.0</td>\n",
       "      <td>0.99572</td>\n",
       "      <td>3.38</td>\n",
       "      <td>0.60</td>\n",
       "      <td>11.3</td>\n",
       "      <td>6</td>\n",
       "      <td>0</td>\n",
       "    </tr>\n",
       "    <tr>\n",
       "      <th>3449</th>\n",
       "      <td>7.1</td>\n",
       "      <td>0.250</td>\n",
       "      <td>0.25</td>\n",
       "      <td>1.60</td>\n",
       "      <td>0.046</td>\n",
       "      <td>50.0</td>\n",
       "      <td>181.0</td>\n",
       "      <td>0.99250</td>\n",
       "      <td>3.20</td>\n",
       "      <td>0.42</td>\n",
       "      <td>11.0</td>\n",
       "      <td>7</td>\n",
       "      <td>1</td>\n",
       "    </tr>\n",
       "    <tr>\n",
       "      <th>2360</th>\n",
       "      <td>7.0</td>\n",
       "      <td>0.200</td>\n",
       "      <td>0.38</td>\n",
       "      <td>8.10</td>\n",
       "      <td>0.050</td>\n",
       "      <td>42.0</td>\n",
       "      <td>173.0</td>\n",
       "      <td>0.99585</td>\n",
       "      <td>3.30</td>\n",
       "      <td>0.54</td>\n",
       "      <td>9.8</td>\n",
       "      <td>6</td>\n",
       "      <td>1</td>\n",
       "    </tr>\n",
       "    <tr>\n",
       "      <th>3976</th>\n",
       "      <td>7.0</td>\n",
       "      <td>0.220</td>\n",
       "      <td>0.29</td>\n",
       "      <td>8.90</td>\n",
       "      <td>0.050</td>\n",
       "      <td>24.0</td>\n",
       "      <td>90.0</td>\n",
       "      <td>0.99556</td>\n",
       "      <td>3.29</td>\n",
       "      <td>0.46</td>\n",
       "      <td>9.8</td>\n",
       "      <td>6</td>\n",
       "      <td>1</td>\n",
       "    </tr>\n",
       "    <tr>\n",
       "      <th>3102</th>\n",
       "      <td>6.8</td>\n",
       "      <td>0.360</td>\n",
       "      <td>0.24</td>\n",
       "      <td>4.60</td>\n",
       "      <td>0.039</td>\n",
       "      <td>24.0</td>\n",
       "      <td>124.0</td>\n",
       "      <td>0.99090</td>\n",
       "      <td>3.27</td>\n",
       "      <td>0.34</td>\n",
       "      <td>12.6</td>\n",
       "      <td>7</td>\n",
       "      <td>1</td>\n",
       "    </tr>\n",
       "    <tr>\n",
       "      <th>6223</th>\n",
       "      <td>6.4</td>\n",
       "      <td>0.400</td>\n",
       "      <td>0.25</td>\n",
       "      <td>4.20</td>\n",
       "      <td>0.032</td>\n",
       "      <td>15.0</td>\n",
       "      <td>91.0</td>\n",
       "      <td>0.98988</td>\n",
       "      <td>3.26</td>\n",
       "      <td>0.52</td>\n",
       "      <td>13.1</td>\n",
       "      <td>6</td>\n",
       "      <td>1</td>\n",
       "    </tr>\n",
       "  </tbody>\n",
       "</table>\n",
       "</div>"
      ],
      "text/plain": [
       "      fixed acidity  volatile acidity  citric acid  residual sugar  chlorides  \\\n",
       "503            10.5             0.260         0.47            1.90      0.078   \n",
       "6057            6.6             0.350         0.26            2.70      0.045   \n",
       "4381            7.1             0.200         0.31            6.85      0.053   \n",
       "490             9.3             0.775         0.27            2.80      0.078   \n",
       "1115            7.0             0.690         0.07            2.50      0.091   \n",
       "3449            7.1             0.250         0.25            1.60      0.046   \n",
       "2360            7.0             0.200         0.38            8.10      0.050   \n",
       "3976            7.0             0.220         0.29            8.90      0.050   \n",
       "3102            6.8             0.360         0.24            4.60      0.039   \n",
       "6223            6.4             0.400         0.25            4.20      0.032   \n",
       "\n",
       "      free sulfur dioxide  total sulfur dioxide  density    pH  sulphates  \\\n",
       "503                   6.0                  24.0  0.99760  3.18       1.04   \n",
       "6057                 19.0                 129.0  0.98952  3.24       0.48   \n",
       "4381                 32.0                 211.0  0.99587  3.31       0.59   \n",
       "490                  24.0                  56.0  0.99840  3.31       0.67   \n",
       "1115                 15.0                  21.0  0.99572  3.38       0.60   \n",
       "3449                 50.0                 181.0  0.99250  3.20       0.42   \n",
       "2360                 42.0                 173.0  0.99585  3.30       0.54   \n",
       "3976                 24.0                  90.0  0.99556  3.29       0.46   \n",
       "3102                 24.0                 124.0  0.99090  3.27       0.34   \n",
       "6223                 15.0                  91.0  0.98988  3.26       0.52   \n",
       "\n",
       "      alcohol  quality  type  \n",
       "503      10.9        7     0  \n",
       "6057     13.0        7     1  \n",
       "4381     10.4        6     1  \n",
       "490      10.6        6     0  \n",
       "1115     11.3        6     0  \n",
       "3449     11.0        7     1  \n",
       "2360      9.8        6     1  \n",
       "3976      9.8        6     1  \n",
       "3102     12.6        7     1  \n",
       "6223     13.1        6     1  "
      ]
     },
     "execution_count": 110,
     "metadata": {},
     "output_type": "execute_result"
    }
   ],
   "source": [
    "wine_df_clean.sample(10)"
   ]
  },
  {
   "cell_type": "code",
   "execution_count": null,
   "id": "8405c74e",
   "metadata": {},
   "outputs": [
    {
     "data": {
      "text/html": [
       "<div>\n",
       "<style scoped>\n",
       "    .dataframe tbody tr th:only-of-type {\n",
       "        vertical-align: middle;\n",
       "    }\n",
       "\n",
       "    .dataframe tbody tr th {\n",
       "        vertical-align: top;\n",
       "    }\n",
       "\n",
       "    .dataframe thead th {\n",
       "        text-align: right;\n",
       "    }\n",
       "</style>\n",
       "<table border=\"1\" class=\"dataframe\">\n",
       "  <thead>\n",
       "    <tr style=\"text-align: right;\">\n",
       "      <th></th>\n",
       "      <th>fixed acidity</th>\n",
       "      <th>volatile acidity</th>\n",
       "      <th>citric acid</th>\n",
       "      <th>residual sugar</th>\n",
       "      <th>chlorides</th>\n",
       "      <th>free sulfur dioxide</th>\n",
       "      <th>total sulfur dioxide</th>\n",
       "      <th>density</th>\n",
       "      <th>pH</th>\n",
       "      <th>sulphates</th>\n",
       "      <th>alcohol</th>\n",
       "      <th>quality</th>\n",
       "      <th>type</th>\n",
       "    </tr>\n",
       "  </thead>\n",
       "  <tbody>\n",
       "    <tr>\n",
       "      <th>count</th>\n",
       "      <td>5320.000000</td>\n",
       "      <td>5320.000000</td>\n",
       "      <td>5320.000000</td>\n",
       "      <td>5320.000000</td>\n",
       "      <td>5320.000000</td>\n",
       "      <td>5320.000000</td>\n",
       "      <td>5320.000000</td>\n",
       "      <td>5320.000000</td>\n",
       "      <td>5320.000000</td>\n",
       "      <td>5320.000000</td>\n",
       "      <td>5320.000000</td>\n",
       "      <td>5320.000000</td>\n",
       "      <td>5320.000000</td>\n",
       "    </tr>\n",
       "    <tr>\n",
       "      <th>mean</th>\n",
       "      <td>7.215179</td>\n",
       "      <td>0.344130</td>\n",
       "      <td>0.318494</td>\n",
       "      <td>5.048477</td>\n",
       "      <td>0.056690</td>\n",
       "      <td>30.036654</td>\n",
       "      <td>114.109023</td>\n",
       "      <td>0.994535</td>\n",
       "      <td>3.224664</td>\n",
       "      <td>0.533357</td>\n",
       "      <td>10.549241</td>\n",
       "      <td>5.795677</td>\n",
       "      <td>0.744549</td>\n",
       "    </tr>\n",
       "    <tr>\n",
       "      <th>std</th>\n",
       "      <td>1.319671</td>\n",
       "      <td>0.168248</td>\n",
       "      <td>0.147157</td>\n",
       "      <td>4.500180</td>\n",
       "      <td>0.036863</td>\n",
       "      <td>17.805045</td>\n",
       "      <td>56.774223</td>\n",
       "      <td>0.002966</td>\n",
       "      <td>0.160379</td>\n",
       "      <td>0.149743</td>\n",
       "      <td>1.185933</td>\n",
       "      <td>0.879772</td>\n",
       "      <td>0.436155</td>\n",
       "    </tr>\n",
       "    <tr>\n",
       "      <th>min</th>\n",
       "      <td>3.800000</td>\n",
       "      <td>0.080000</td>\n",
       "      <td>0.000000</td>\n",
       "      <td>0.600000</td>\n",
       "      <td>0.009000</td>\n",
       "      <td>1.000000</td>\n",
       "      <td>6.000000</td>\n",
       "      <td>0.987110</td>\n",
       "      <td>2.720000</td>\n",
       "      <td>0.220000</td>\n",
       "      <td>8.000000</td>\n",
       "      <td>3.000000</td>\n",
       "      <td>0.000000</td>\n",
       "    </tr>\n",
       "    <tr>\n",
       "      <th>25%</th>\n",
       "      <td>6.400000</td>\n",
       "      <td>0.230000</td>\n",
       "      <td>0.240000</td>\n",
       "      <td>1.800000</td>\n",
       "      <td>0.038000</td>\n",
       "      <td>16.000000</td>\n",
       "      <td>74.000000</td>\n",
       "      <td>0.992200</td>\n",
       "      <td>3.110000</td>\n",
       "      <td>0.430000</td>\n",
       "      <td>9.500000</td>\n",
       "      <td>5.000000</td>\n",
       "      <td>0.000000</td>\n",
       "    </tr>\n",
       "    <tr>\n",
       "      <th>50%</th>\n",
       "      <td>7.000000</td>\n",
       "      <td>0.300000</td>\n",
       "      <td>0.310000</td>\n",
       "      <td>2.700000</td>\n",
       "      <td>0.047000</td>\n",
       "      <td>28.000000</td>\n",
       "      <td>116.000000</td>\n",
       "      <td>0.994650</td>\n",
       "      <td>3.210000</td>\n",
       "      <td>0.510000</td>\n",
       "      <td>10.400000</td>\n",
       "      <td>6.000000</td>\n",
       "      <td>1.000000</td>\n",
       "    </tr>\n",
       "    <tr>\n",
       "      <th>75%</th>\n",
       "      <td>7.700000</td>\n",
       "      <td>0.410000</td>\n",
       "      <td>0.400000</td>\n",
       "      <td>7.500000</td>\n",
       "      <td>0.066000</td>\n",
       "      <td>41.000000</td>\n",
       "      <td>153.250000</td>\n",
       "      <td>0.996770</td>\n",
       "      <td>3.330000</td>\n",
       "      <td>0.600000</td>\n",
       "      <td>11.400000</td>\n",
       "      <td>6.000000</td>\n",
       "      <td>1.000000</td>\n",
       "    </tr>\n",
       "    <tr>\n",
       "      <th>max</th>\n",
       "      <td>15.900000</td>\n",
       "      <td>1.580000</td>\n",
       "      <td>1.660000</td>\n",
       "      <td>65.800000</td>\n",
       "      <td>0.611000</td>\n",
       "      <td>289.000000</td>\n",
       "      <td>440.000000</td>\n",
       "      <td>1.038980</td>\n",
       "      <td>4.010000</td>\n",
       "      <td>2.000000</td>\n",
       "      <td>14.900000</td>\n",
       "      <td>9.000000</td>\n",
       "      <td>1.000000</td>\n",
       "    </tr>\n",
       "  </tbody>\n",
       "</table>\n",
       "</div>"
      ],
      "text/plain": [
       "       fixed acidity  volatile acidity  citric acid  residual sugar  \\\n",
       "count    5320.000000       5320.000000  5320.000000     5320.000000   \n",
       "mean        7.215179          0.344130     0.318494        5.048477   \n",
       "std         1.319671          0.168248     0.147157        4.500180   \n",
       "min         3.800000          0.080000     0.000000        0.600000   \n",
       "25%         6.400000          0.230000     0.240000        1.800000   \n",
       "50%         7.000000          0.300000     0.310000        2.700000   \n",
       "75%         7.700000          0.410000     0.400000        7.500000   \n",
       "max        15.900000          1.580000     1.660000       65.800000   \n",
       "\n",
       "         chlorides  free sulfur dioxide  total sulfur dioxide      density  \\\n",
       "count  5320.000000          5320.000000           5320.000000  5320.000000   \n",
       "mean      0.056690            30.036654            114.109023     0.994535   \n",
       "std       0.036863            17.805045             56.774223     0.002966   \n",
       "min       0.009000             1.000000              6.000000     0.987110   \n",
       "25%       0.038000            16.000000             74.000000     0.992200   \n",
       "50%       0.047000            28.000000            116.000000     0.994650   \n",
       "75%       0.066000            41.000000            153.250000     0.996770   \n",
       "max       0.611000           289.000000            440.000000     1.038980   \n",
       "\n",
       "                pH    sulphates      alcohol      quality         type  \n",
       "count  5320.000000  5320.000000  5320.000000  5320.000000  5320.000000  \n",
       "mean      3.224664     0.533357    10.549241     5.795677     0.744549  \n",
       "std       0.160379     0.149743     1.185933     0.879772     0.436155  \n",
       "min       2.720000     0.220000     8.000000     3.000000     0.000000  \n",
       "25%       3.110000     0.430000     9.500000     5.000000     0.000000  \n",
       "50%       3.210000     0.510000    10.400000     6.000000     1.000000  \n",
       "75%       3.330000     0.600000    11.400000     6.000000     1.000000  \n",
       "max       4.010000     2.000000    14.900000     9.000000     1.000000  "
      ]
     },
     "execution_count": 111,
     "metadata": {},
     "output_type": "execute_result"
    }
   ],
   "source": [
    "#step 6\n",
    "wine_df_clean.describe()"
   ]
  },
  {
   "cell_type": "code",
   "execution_count": 112,
   "id": "4f741ff5",
   "metadata": {},
   "outputs": [
    {
     "data": {
      "text/plain": [
       "fixed acidity           1.650417\n",
       "volatile acidity        1.504557\n",
       "citric acid             0.484309\n",
       "residual sugar          1.706550\n",
       "chlorides               5.338237\n",
       "free sulfur dioxide     1.362719\n",
       "total sulfur dioxide    0.063614\n",
       "density                 0.666326\n",
       "pH                      0.389969\n",
       "sulphates               1.809454\n",
       "alcohol                 0.545696\n",
       "quality                 0.147467\n",
       "type                   -1.121806\n",
       "dtype: float64"
      ]
     },
     "execution_count": 112,
     "metadata": {},
     "output_type": "execute_result"
    }
   ],
   "source": [
    "wine_df_clean.skew()"
   ]
  },
  {
   "cell_type": "markdown",
   "id": "b7fa6760",
   "metadata": {},
   "source": [
    "make a diagram (histogram (sns.histplot), box plot (sns.boxplot), Pair plots(sns.pairplot))\n",
    "What is skewness?\n",
    "A perfectly normal distribution (like the bell curve) has skewness = 0.\n",
    "\n",
    "Skewness > 0 → The distribution is right-skewed (long tail on the right)\n",
    "\n",
    "Skewness < 0 → The distribution is left-skewed (long tail on the left)\n",
    "\n",
    "📈 Visuals of skewness:\n",
    "Type\tShape\tSkewness\n",
    "Normal\tSymmetrical bell curve\t0\n",
    "Right-skewed\tLong tail to the right\t> 0\n",
    "Left-skewed\tLong tail to the left\t< 0"
   ]
  },
  {
   "cell_type": "code",
   "execution_count": null,
   "id": "c5d708db",
   "metadata": {},
   "outputs": [
    {
     "data": {
      "text/plain": [
       "<function seaborn.distributions.histplot(data=None, *, x=None, y=None, hue=None, weights=None, stat='count', bins='auto', binwidth=None, binrange=None, discrete=None, cumulative=False, common_bins=True, common_norm=True, multiple='layer', element='bars', fill=True, shrink=1, kde=False, kde_kws=None, line_kws=None, thresh=0, pthresh=None, pmax=None, cbar=False, cbar_ax=None, cbar_kws=None, palette=None, hue_order=None, hue_norm=None, color=None, log_scale=None, legend=True, ax=None, **kwargs)>"
      ]
     },
     "execution_count": 116,
     "metadata": {},
     "output_type": "execute_result"
    }
   ],
   "source": [
    "#code block for diagrams"
   ]
  }
 ],
 "metadata": {
  "kernelspec": {
   "display_name": "Python 3",
   "language": "python",
   "name": "python3"
  },
  "language_info": {
   "codemirror_mode": {
    "name": "ipython",
    "version": 3
   },
   "file_extension": ".py",
   "mimetype": "text/x-python",
   "name": "python",
   "nbconvert_exporter": "python",
   "pygments_lexer": "ipython3",
   "version": "3.11.9"
  }
 },
 "nbformat": 4,
 "nbformat_minor": 5
}
